{
 "cells": [
  {
   "cell_type": "code",
   "execution_count": 1,
   "id": "bc5993ec",
   "metadata": {},
   "outputs": [
    {
     "data": {
      "text/plain": [
       "'2.12.0'"
      ]
     },
     "execution_count": 1,
     "metadata": {},
     "output_type": "execute_result"
    }
   ],
   "source": [
    "import tensorflow as tf\n",
    "import keras\n",
    "\n",
    "keras.__version__"
   ]
  },
  {
   "cell_type": "code",
   "execution_count": 2,
   "id": "994ced59",
   "metadata": {},
   "outputs": [
    {
     "data": {
      "text/plain": [
       "'2.12.0'"
      ]
     },
     "execution_count": 2,
     "metadata": {},
     "output_type": "execute_result"
    }
   ],
   "source": [
    "tf.__version__"
   ]
  },
  {
   "cell_type": "code",
   "execution_count": 3,
   "id": "f6813ef9",
   "metadata": {},
   "outputs": [
    {
     "data": {
      "text/plain": [
       "[PhysicalDevice(name='/physical_device:GPU:0', device_type='GPU')]"
      ]
     },
     "execution_count": 3,
     "metadata": {},
     "output_type": "execute_result"
    }
   ],
   "source": [
    "tf.config.experimental.list_physical_devices('GPU')"
   ]
  },
  {
   "cell_type": "code",
   "execution_count": 4,
   "id": "15b4858e",
   "metadata": {},
   "outputs": [],
   "source": [
    "import numpy as np\n",
    "from keras.models import Sequential\n",
    "from keras.layers import Dense, Activation\n",
    "from tensorflow.keras.optimizers.legacy import SGD\n",
    "import h5py"
   ]
  },
  {
   "cell_type": "code",
   "execution_count": 6,
   "id": "6c507385",
   "metadata": {},
   "outputs": [],
   "source": [
    "x_train = np.array([[2], [1], [-3]])\n",
    "y_train = np.array([10, 5, -15])"
   ]
  },
  {
   "cell_type": "code",
   "execution_count": 7,
   "id": "a0f58c9a",
   "metadata": {},
   "outputs": [
    {
     "name": "stdout",
     "output_type": "stream",
     "text": [
      "Metal device set to: Apple M1 Pro\n",
      "Model: \"sequential\"\n",
      "_________________________________________________________________\n",
      " Layer (type)                Output Shape              Param #   \n",
      "=================================================================\n",
      " dense (Dense)               (None, 1)                 2         \n",
      "                                                                 \n",
      "=================================================================\n",
      "Total params: 2\n",
      "Trainable params: 2\n",
      "Non-trainable params: 0\n",
      "_________________________________________________________________\n"
     ]
    }
   ],
   "source": [
    "num_neurons = 1\n",
    "model = Sequential()\n",
    "model.add(Dense(num_neurons, input_dim =1))\n",
    "model.summary()"
   ]
  },
  {
   "cell_type": "code",
   "execution_count": 8,
   "id": "c74b55b6",
   "metadata": {},
   "outputs": [],
   "source": [
    "sgd = SGD(learning_rate=1.0)\n",
    "model.compile(loss='mean_squared_error', optimizer=sgd)"
   ]
  },
  {
   "cell_type": "code",
   "execution_count": 17,
   "id": "ba943c35",
   "metadata": {},
   "outputs": [
    {
     "name": "stdout",
     "output_type": "stream",
     "text": [
      "1/1 [==============================] - 0s 90ms/step\n"
     ]
    },
    {
     "data": {
      "text/plain": [
       "array([[ 10.964815 ],\n",
       "       [  5.9648156],\n",
       "       [-14.035185 ]], dtype=float32)"
      ]
     },
     "execution_count": 17,
     "metadata": {},
     "output_type": "execute_result"
    }
   ],
   "source": [
    "model.predict(x_train)"
   ]
  },
  {
   "cell_type": "code",
   "execution_count": 10,
   "id": "6a7a37cc",
   "metadata": {},
   "outputs": [
    {
     "name": "stdout",
     "output_type": "stream",
     "text": [
      "Epoch 1/10\n",
      "1/1 [==============================] - 0s 428ms/step - loss: 121.7697\n",
      "Epoch 2/10\n",
      "1/1 [==============================] - 0s 6ms/step - loss: 8456.2285\n",
      "Epoch 3/10\n",
      "1/1 [==============================] - 0s 6ms/step - loss: 587238.1250\n",
      "Epoch 4/10\n",
      "1/1 [==============================] - 0s 6ms/step - loss: 40780416.0000\n",
      "Epoch 5/10\n",
      "1/1 [==============================] - 0s 6ms/step - loss: 2831973376.0000\n",
      "Epoch 6/10\n",
      "1/1 [==============================] - 0s 6ms/step - loss: 196664819712.0000\n",
      "Epoch 7/10\n",
      "1/1 [==============================] - 0s 6ms/step - loss: 13657280872448.0000\n",
      "Epoch 8/10\n",
      "1/1 [==============================] - 0s 7ms/step - loss: 948422462930944.0000\n",
      "Epoch 9/10\n",
      "1/1 [==============================] - 0s 6ms/step - loss: 65862670649131008.0000\n",
      "Epoch 10/10\n",
      "1/1 [==============================] - 0s 5ms/step - loss: 4573797672367947776.0000\n"
     ]
    },
    {
     "data": {
      "text/plain": [
       "<keras.callbacks.History at 0x2863c7550>"
      ]
     },
     "execution_count": 10,
     "metadata": {},
     "output_type": "execute_result"
    }
   ],
   "source": [
    "model.fit(x_train, y_train, epochs=10)"
   ]
  },
  {
   "cell_type": "code",
   "execution_count": 11,
   "id": "28387aec",
   "metadata": {},
   "outputs": [
    {
     "name": "stdout",
     "output_type": "stream",
     "text": [
      "1/1 [==============================] - 0s 15ms/step\n"
     ]
    },
    {
     "data": {
      "text/plain": [
       "array([[-1.6499996e+10],\n",
       "       [-8.2499978e+09],\n",
       "       [ 2.4749994e+10]], dtype=float32)"
      ]
     },
     "execution_count": 11,
     "metadata": {},
     "output_type": "execute_result"
    }
   ],
   "source": [
    "model.predict(x_train)"
   ]
  },
  {
   "cell_type": "code",
   "execution_count": 12,
   "id": "b8755f77",
   "metadata": {},
   "outputs": [
    {
     "name": "stdout",
     "output_type": "stream",
     "text": [
      "1/1 [==============================] - 0s 15ms/step\n"
     ]
    },
    {
     "data": {
      "text/plain": [
       "array([[ 8.2499977e+10],\n",
       "       [ 1.3499588e+02],\n",
       "       [-4.1249989e+10]], dtype=float32)"
      ]
     },
     "execution_count": 12,
     "metadata": {},
     "output_type": "execute_result"
    }
   ],
   "source": [
    "new_values = np.array([[-10], [0], [5]])\n",
    "model.predict(new_values)"
   ]
  },
  {
   "cell_type": "code",
   "execution_count": 13,
   "id": "a86496d4",
   "metadata": {},
   "outputs": [
    {
     "data": {
      "text/plain": [
       "[array([[-8.249998e+09]], dtype=float32), array([134.99588], dtype=float32)]"
      ]
     },
     "execution_count": 13,
     "metadata": {},
     "output_type": "execute_result"
    }
   ],
   "source": [
    "model.get_weights()"
   ]
  },
  {
   "cell_type": "code",
   "execution_count": 18,
   "id": "6cfa4c7d",
   "metadata": {},
   "outputs": [
    {
     "name": "stdout",
     "output_type": "stream",
     "text": [
      "Model: \"sequential_2\"\n",
      "_________________________________________________________________\n",
      " Layer (type)                Output Shape              Param #   \n",
      "=================================================================\n",
      " dense_2 (Dense)             (None, 1)                 2         \n",
      "                                                                 \n",
      "=================================================================\n",
      "Total params: 2\n",
      "Trainable params: 2\n",
      "Non-trainable params: 0\n",
      "_________________________________________________________________\n",
      "Epoch 1/15\n",
      "1/1 [==============================] - 0s 137ms/step - loss: 63.1670\n",
      "Epoch 2/15\n",
      "1/1 [==============================] - 0s 6ms/step - loss: 0.9163\n",
      "Epoch 3/15\n",
      "1/1 [==============================] - 0s 7ms/step - loss: 0.4108\n",
      "Epoch 4/15\n",
      "1/1 [==============================] - 0s 6ms/step - loss: 0.2621\n",
      "Epoch 5/15\n",
      "1/1 [==============================] - 0s 7ms/step - loss: 0.1678\n",
      "Epoch 6/15\n",
      "1/1 [==============================] - 0s 7ms/step - loss: 0.1074\n",
      "Epoch 7/15\n",
      "1/1 [==============================] - 0s 7ms/step - loss: 0.0687\n",
      "Epoch 8/15\n",
      "1/1 [==============================] - 0s 7ms/step - loss: 0.0440\n",
      "Epoch 9/15\n",
      "1/1 [==============================] - 0s 7ms/step - loss: 0.0281\n",
      "Epoch 10/15\n",
      "1/1 [==============================] - 0s 6ms/step - loss: 0.0180\n",
      "Epoch 11/15\n",
      "1/1 [==============================] - 0s 7ms/step - loss: 0.0115\n",
      "Epoch 12/15\n",
      "1/1 [==============================] - 0s 6ms/step - loss: 0.0074\n",
      "Epoch 13/15\n",
      "1/1 [==============================] - 0s 7ms/step - loss: 0.0047\n",
      "Epoch 14/15\n",
      "1/1 [==============================] - 0s 6ms/step - loss: 0.0030\n",
      "Epoch 15/15\n",
      "1/1 [==============================] - 0s 6ms/step - loss: 0.0019\n"
     ]
    },
    {
     "data": {
      "text/plain": [
       "<keras.callbacks.History at 0x288656250>"
      ]
     },
     "execution_count": 18,
     "metadata": {},
     "output_type": "execute_result"
    }
   ],
   "source": [
    "y_train_new = np.array([11, 6, -14])\n",
    "model = Sequential()\n",
    "model.add(Dense(num_neurons, input_dim = 1))\n",
    "model.summary()\n",
    "sgd = SGD(lr=0.1) \n",
    "model.compile(loss='mean_squared_error', optimizer=sgd)\n",
    "model.fit(x_train, y_train_new, epochs=15)"
   ]
  },
  {
   "cell_type": "code",
   "execution_count": 16,
   "id": "b9c78c37",
   "metadata": {},
   "outputs": [
    {
     "data": {
      "text/plain": [
       "[array([[5.]], dtype=float32), array([0.9648156], dtype=float32)]"
      ]
     },
     "execution_count": 16,
     "metadata": {},
     "output_type": "execute_result"
    }
   ],
   "source": [
    "model.get_weights()"
   ]
  },
  {
   "cell_type": "code",
   "execution_count": null,
   "id": "800ab464",
   "metadata": {},
   "outputs": [],
   "source": []
  }
 ],
 "metadata": {
  "kernelspec": {
   "display_name": "Python 3 (ipykernel)",
   "language": "python",
   "name": "python3"
  },
  "language_info": {
   "codemirror_mode": {
    "name": "ipython",
    "version": 3
   },
   "file_extension": ".py",
   "mimetype": "text/x-python",
   "name": "python",
   "nbconvert_exporter": "python",
   "pygments_lexer": "ipython3",
   "version": "3.9.16"
  }
 },
 "nbformat": 4,
 "nbformat_minor": 5
}
